{
  "nbformat": 4,
  "nbformat_minor": 0,
  "metadata": {
    "colab": {
      "name": "Vowel_consonant_classification.ipynb",
      "provenance": [],
      "collapsed_sections": [],
      "toc_visible": true
    },
    "kernelspec": {
      "name": "python3",
      "display_name": "Python 3"
    },
    "accelerator": "GPU"
  },
  "cells": [
    {
      "cell_type": "code",
      "metadata": {
        "id": "aEXvKQXIDeNE",
        "colab_type": "code",
        "colab": {}
      },
      "source": [
        "# TODO: Experiment with ResNeXT, WideResNet and ResNet-152"
      ],
      "execution_count": 0,
      "outputs": []
    },
    {
      "cell_type": "code",
      "metadata": {
        "id": "R8EnQbzgHXI9",
        "colab_type": "code",
        "outputId": "c4011794-6845-404f-8a31-7b2f4e319f6b",
        "colab": {
          "base_uri": "https://localhost:8080/",
          "height": 204
        }
      },
      "source": [
        "! pip install kaggle\n",
        "! mkdir -p /root/.kaggle\n",
        "! cp kaggle.json /root/.kaggle/\n",
        "# ! pip uninstall pillow\n",
        "# ! pip install pillow"
      ],
      "execution_count": 0,
      "outputs": [
        {
          "output_type": "stream",
          "text": [
            "Requirement already satisfied: kaggle in /usr/local/lib/python3.6/dist-packages (1.5.6)\n",
            "Requirement already satisfied: python-dateutil in /usr/local/lib/python3.6/dist-packages (from kaggle) (2.5.3)\n",
            "Requirement already satisfied: tqdm in /usr/local/lib/python3.6/dist-packages (from kaggle) (4.28.1)\n",
            "Requirement already satisfied: six>=1.10 in /usr/local/lib/python3.6/dist-packages (from kaggle) (1.12.0)\n",
            "Requirement already satisfied: python-slugify in /usr/local/lib/python3.6/dist-packages (from kaggle) (3.0.6)\n",
            "Requirement already satisfied: urllib3<1.25,>=1.21.1 in /usr/local/lib/python3.6/dist-packages (from kaggle) (1.24.3)\n",
            "Requirement already satisfied: requests in /usr/local/lib/python3.6/dist-packages (from kaggle) (2.21.0)\n",
            "Requirement already satisfied: certifi in /usr/local/lib/python3.6/dist-packages (from kaggle) (2019.9.11)\n",
            "Requirement already satisfied: text-unidecode>=1.3 in /usr/local/lib/python3.6/dist-packages (from python-slugify->kaggle) (1.3)\n",
            "Requirement already satisfied: idna<2.9,>=2.5 in /usr/local/lib/python3.6/dist-packages (from requests->kaggle) (2.8)\n",
            "Requirement already satisfied: chardet<3.1.0,>=3.0.2 in /usr/local/lib/python3.6/dist-packages (from requests->kaggle) (3.0.4)\n"
          ],
          "name": "stdout"
        }
      ]
    },
    {
      "cell_type": "code",
      "metadata": {
        "id": "57qW4AY6NLUH",
        "colab_type": "code",
        "outputId": "9195114a-a155-4083-a3c1-7ea9d29e52b7",
        "colab": {
          "base_uri": "https://localhost:8080/",
          "height": 204
        }
      },
      "source": [
        "! kaggle competitions download -c padhai-tamil-vowel-consonant-classification"
      ],
      "execution_count": 0,
      "outputs": [
        {
          "output_type": "stream",
          "text": [
            "Warning: Your Kaggle API key is readable by other users on this system! To fix this, you can run 'chmod 600 /root/.kaggle/kaggle.json'\n",
            "Warning: Looks like you're using an outdated API Version, please consider updating (server 1.5.6 / client 1.5.4)\n",
            "Downloading sample_submission.csv to /content\n",
            "\r  0% 0.00/145k [00:00<?, ?B/s]\n",
            "\r100% 145k/145k [00:00<00:00, 55.0MB/s]\n",
            "Downloading test.zip to /content\n",
            " 79% 73.0M/91.9M [00:00<00:00, 107MB/s] \n",
            "100% 91.9M/91.9M [00:00<00:00, 145MB/s]\n",
            "Downloading train.zip to /content\n",
            " 80% 73.0M/91.6M [00:00<00:00, 88.1MB/s]\n",
            "100% 91.6M/91.6M [00:00<00:00, 124MB/s] \n"
          ],
          "name": "stdout"
        }
      ]
    },
    {
      "cell_type": "code",
      "metadata": {
        "id": "eycVh74qPjyw",
        "colab_type": "code",
        "outputId": "921e853d-aed5-41a5-ca4f-3cc6a1f82574",
        "colab": {
          "base_uri": "https://localhost:8080/",
          "height": 122
        }
      },
      "source": [
        "from google.colab import drive\n",
        "drive.mount('/content/drive')"
      ],
      "execution_count": 0,
      "outputs": [
        {
          "output_type": "stream",
          "text": [
            "Go to this URL in a browser: https://accounts.google.com/o/oauth2/auth?client_id=947318989803-6bn6qk8qdgf4n4g3pfee6491hc0brc4i.apps.googleusercontent.com&redirect_uri=urn%3Aietf%3Awg%3Aoauth%3A2.0%3Aoob&scope=email%20https%3A%2F%2Fwww.googleapis.com%2Fauth%2Fdocs.test%20https%3A%2F%2Fwww.googleapis.com%2Fauth%2Fdrive%20https%3A%2F%2Fwww.googleapis.com%2Fauth%2Fdrive.photos.readonly%20https%3A%2F%2Fwww.googleapis.com%2Fauth%2Fpeopleapi.readonly&response_type=code\n",
            "\n",
            "Enter your authorization code:\n",
            "··········\n",
            "Mounted at /content/drive\n"
          ],
          "name": "stdout"
        }
      ]
    },
    {
      "cell_type": "code",
      "metadata": {
        "id": "0vpoK1b3Pe-5",
        "colab_type": "code",
        "colab": {}
      },
      "source": [
        "import zipfile\n",
        "import os\n",
        "import cv2"
      ],
      "execution_count": 0,
      "outputs": []
    },
    {
      "cell_type": "code",
      "metadata": {
        "id": "5YhQmSi2Pza1",
        "colab_type": "code",
        "colab": {}
      },
      "source": [
        "train_path = 'train.zip'\n",
        "test_path = 'test.zip'\n",
        "\n",
        "with zipfile.ZipFile(train_path, 'r') as zip:\n",
        "    zip.extractall()\n",
        "\n",
        "with zipfile.ZipFile(test_path, 'r') as zip:\n",
        "    zip.extractall()"
      ],
      "execution_count": 0,
      "outputs": []
    },
    {
      "cell_type": "markdown",
      "metadata": {
        "id": "tkJTLe6EQUYJ",
        "colab_type": "text"
      },
      "source": [
        "## Create a PyTorch dataset for the same"
      ]
    },
    {
      "cell_type": "code",
      "metadata": {
        "id": "Wq5TPq9yQ5Oc",
        "colab_type": "code",
        "outputId": "f7fcb142-dbf4-4164-e755-92470d86a9f1",
        "colab": {
          "base_uri": "https://localhost:8080/",
          "height": 34
        }
      },
      "source": [
        "import torch\n",
        "import torch.nn as nn\n",
        "import torch.nn.functional as F\n",
        "\n",
        "from torch.utils.data import Dataset, DataLoader, random_split\n",
        "from torchvision import transforms\n",
        "from torchvision.models import inception_v3\n",
        "from tqdm import tqdm\n",
        "from PIL import Image\n",
        "import matplotlib.pyplot as plt\n",
        "\n",
        "torch.manual_seed(2019)"
      ],
      "execution_count": 0,
      "outputs": [
        {
          "output_type": "execute_result",
          "data": {
            "text/plain": [
              "<torch._C.Generator at 0x7fb4c1c3c4f0>"
            ]
          },
          "metadata": {
            "tags": []
          },
          "execution_count": 3
        }
      ]
    },
    {
      "cell_type": "code",
      "metadata": {
        "id": "_iAqxRQoSP83",
        "colab_type": "code",
        "colab": {}
      },
      "source": [
        "def get_transforms(train=False):\n",
        "    T = []\n",
        "    if train:\n",
        "        # Add more transforms here\n",
        "        # T.append(transforms.RandomVerticalFlip())\n",
        "        # T.append(transforms.RandomHorizontalFlip())\n",
        "        T.append(transforms.RandomGrayscale(p=0.3))\n",
        "    T.append(transforms.Resize((299, 299)))\n",
        "    T.append(transforms.ToTensor())\n",
        "    return transforms.Compose(T)"
      ],
      "execution_count": 0,
      "outputs": []
    },
    {
      "cell_type": "code",
      "metadata": {
        "id": "0EkkQVSrQI3h",
        "colab_type": "code",
        "colab": {}
      },
      "source": [
        "class LangDataset(Dataset):\n",
        "    def __init__(self, train_dir, transform=None):\n",
        "        self.images = []\n",
        "        self.targets = []  # Stores the target in the form of (vowel, consonant)\n",
        "        self.transform = transform\n",
        "\n",
        "        images = os.listdir(train_dir)\n",
        "        for image in tqdm(images):\n",
        "            image_path = os.path.join(train_dir, image)\n",
        "            img = Image.open(image_path).convert('RGB')\n",
        "            self.images.append(img)\n",
        "            target, _ = os.path.splitext(image)\n",
        "            vowel, consonant = target.split('_')[:2]\n",
        "            vowel_idx = int(vowel[1])\n",
        "            consonant_idx = int(consonant[1])\n",
        "\n",
        "            self.targets.append(torch.as_tensor([vowel_idx, consonant_idx], dtype=torch.long))\n",
        "\n",
        "    def __getitem__(self, idx):\n",
        "        image = self.images[idx]\n",
        "        target = self.targets[idx]\n",
        "\n",
        "        if self.transform:\n",
        "            image = self.transform(image)\n",
        "        return image, target\n",
        "\n",
        "    def __len__(self):\n",
        "        return len(self.images)"
      ],
      "execution_count": 0,
      "outputs": []
    },
    {
      "cell_type": "code",
      "metadata": {
        "id": "sSiOCL8-Togb",
        "colab_type": "code",
        "outputId": "5a55c1d6-d784-4b06-b5d3-794644a9d63e",
        "colab": {
          "base_uri": "https://localhost:8080/",
          "height": 34
        }
      },
      "source": [
        "train_dir = '/content/train/'\n",
        "\n",
        "# Sanity check the dataset\n",
        "transform = get_transforms(train=True)\n",
        "dataset = LangDataset(train_dir, transform=transform)"
      ],
      "execution_count": 0,
      "outputs": [
        {
          "output_type": "stream",
          "text": [
            "100%|██████████| 10000/10000 [00:04<00:00, 2218.20it/s]\n"
          ],
          "name": "stderr"
        }
      ]
    },
    {
      "cell_type": "code",
      "metadata": {
        "id": "NxjHy7vwUxQP",
        "colab_type": "code",
        "outputId": "703e779b-304c-48b3-e025-3e82ee793d25",
        "colab": {
          "base_uri": "https://localhost:8080/",
          "height": 286
        }
      },
      "source": [
        "img, label = dataset[0]\n",
        "plt.imshow(img.permute(1, 2, 0))\n",
        "print(label)"
      ],
      "execution_count": 0,
      "outputs": [
        {
          "output_type": "stream",
          "text": [
            "tensor([9, 1])\n"
          ],
          "name": "stdout"
        },
        {
          "output_type": "display_data",
          "data": {
            "image/png": "[encoded data removed]",
            "text/plain": [
              "<Figure size 432x288 with 1 Axes>"
            ]
          },
          "metadata": {
            "tags": []
          }
        }
      ]
    },
    {
      "cell_type": "markdown",
      "metadata": {
        "id": "xUBoa31WiBkT",
        "colab_type": "text"
      },
      "source": [
        "## Define the model"
      ]
    },
    {
      "cell_type": "code",
      "metadata": {
        "id": "nFCN4-B00CSs",
        "colab_type": "code",
        "outputId": "1d692154-759b-408e-9156-b7281a519f56",
        "colab": {
          "base_uri": "https://localhost:8080/",
          "height": 1000
        }
      },
      "source": [
        "inception_net = inception_v3(pretrained=True, aux_logits=False)\n",
        "for name, module in inception_net.named_parameters():\n",
        "    print(name)"
      ],
      "execution_count": 0,
      "outputs": [
        {
          "output_type": "stream",
          "text": [
            "Conv2d_1a_3x3.conv.weight\n",
            "Conv2d_1a_3x3.bn.weight\n",
            "Conv2d_1a_3x3.bn.bias\n",
            "Conv2d_2a_3x3.conv.weight\n",
            "Conv2d_2a_3x3.bn.weight\n",
            "Conv2d_2a_3x3.bn.bias\n",
            "Conv2d_2b_3x3.conv.weight\n",
            "Conv2d_2b_3x3.bn.weight\n",
            "Conv2d_2b_3x3.bn.bias\n",
            "Conv2d_3b_1x1.conv.weight\n",
            "Conv2d_3b_1x1.bn.weight\n",
            "Conv2d_3b_1x1.bn.bias\n",
            "Conv2d_4a_3x3.conv.weight\n",
            "Conv2d_4a_3x3.bn.weight\n",
            "Conv2d_4a_3x3.bn.bias\n",
            "Mixed_5b.branch1x1.conv.weight\n",
            "Mixed_5b.branch1x1.bn.weight\n",
            "Mixed_5b.branch1x1.bn.bias\n",
            "Mixed_5b.branch5x5_1.conv.weight\n",
            "Mixed_5b.branch5x5_1.bn.weight\n",
            "Mixed_5b.branch5x5_1.bn.bias\n",
            "Mixed_5b.branch5x5_2.conv.weight\n",
            "Mixed_5b.branch5x5_2.bn.weight\n",
            "Mixed_5b.branch5x5_2.bn.bias\n",
            "Mixed_5b.branch3x3dbl_1.conv.weight\n",
            "Mixed_5b.branch3x3dbl_1.bn.weight\n",
            "Mixed_5b.branch3x3dbl_1.bn.bias\n",
            "Mixed_5b.branch3x3dbl_2.conv.weight\n",
            "Mixed_5b.branch3x3dbl_2.bn.weight\n",
            "Mixed_5b.branch3x3dbl_2.bn.bias\n",
            "Mixed_5b.branch3x3dbl_3.conv.weight\n",
            "Mixed_5b.branch3x3dbl_3.bn.weight\n",
            "Mixed_5b.branch3x3dbl_3.bn.bias\n",
            "Mixed_5b.branch_pool.conv.weight\n",
            "Mixed_5b.branch_pool.bn.weight\n",
            "Mixed_5b.branch_pool.bn.bias\n",
            "Mixed_5c.branch1x1.conv.weight\n",
            "Mixed_5c.branch1x1.bn.weight\n",
            "Mixed_5c.branch1x1.bn.bias\n",
            "Mixed_5c.branch5x5_1.conv.weight\n",
            "Mixed_5c.branch5x5_1.bn.weight\n",
            "Mixed_5c.branch5x5_1.bn.bias\n",
            "Mixed_5c.branch5x5_2.conv.weight\n",
            "Mixed_5c.branch5x5_2.bn.weight\n",
            "Mixed_5c.branch5x5_2.bn.bias\n",
            "Mixed_5c.branch3x3dbl_1.conv.weight\n",
            "Mixed_5c.branch3x3dbl_1.bn.weight\n",
            "Mixed_5c.branch3x3dbl_1.bn.bias\n",
            "Mixed_5c.branch3x3dbl_2.conv.weight\n",
            "Mixed_5c.branch3x3dbl_2.bn.weight\n",
            "Mixed_5c.branch3x3dbl_2.bn.bias\n",
            "Mixed_5c.branch3x3dbl_3.conv.weight\n",
            "Mixed_5c.branch3x3dbl_3.bn.weight\n",
            "Mixed_5c.branch3x3dbl_3.bn.bias\n",
            "Mixed_5c.branch_pool.conv.weight\n",
            "Mixed_5c.branch_pool.bn.weight\n",
            "Mixed_5c.branch_pool.bn.bias\n",
            "Mixed_5d.branch1x1.conv.weight\n",
            "Mixed_5d.branch1x1.bn.weight\n",
            "Mixed_5d.branch1x1.bn.bias\n",
            "Mixed_5d.branch5x5_1.conv.weight\n",
            "Mixed_5d.branch5x5_1.bn.weight\n",
            "Mixed_5d.branch5x5_1.bn.bias\n",
            "Mixed_5d.branch5x5_2.conv.weight\n",
            "Mixed_5d.branch5x5_2.bn.weight\n",
            "Mixed_5d.branch5x5_2.bn.bias\n",
            "Mixed_5d.branch3x3dbl_1.conv.weight\n",
            "Mixed_5d.branch3x3dbl_1.bn.weight\n",
            "Mixed_5d.branch3x3dbl_1.bn.bias\n",
            "Mixed_5d.branch3x3dbl_2.conv.weight\n",
            "Mixed_5d.branch3x3dbl_2.bn.weight\n",
            "Mixed_5d.branch3x3dbl_2.bn.bias\n",
            "Mixed_5d.branch3x3dbl_3.conv.weight\n",
            "Mixed_5d.branch3x3dbl_3.bn.weight\n",
            "Mixed_5d.branch3x3dbl_3.bn.bias\n",
            "Mixed_5d.branch_pool.conv.weight\n",
            "Mixed_5d.branch_pool.bn.weight\n",
            "Mixed_5d.branch_pool.bn.bias\n",
            "Mixed_6a.branch3x3.conv.weight\n",
            "Mixed_6a.branch3x3.bn.weight\n",
            "Mixed_6a.branch3x3.bn.bias\n",
            "Mixed_6a.branch3x3dbl_1.conv.weight\n",
            "Mixed_6a.branch3x3dbl_1.bn.weight\n",
            "Mixed_6a.branch3x3dbl_1.bn.bias\n",
            "Mixed_6a.branch3x3dbl_2.conv.weight\n",
            "Mixed_6a.branch3x3dbl_2.bn.weight\n",
            "Mixed_6a.branch3x3dbl_2.bn.bias\n",
            "Mixed_6a.branch3x3dbl_3.conv.weight\n",
            "Mixed_6a.branch3x3dbl_3.bn.weight\n",
            "Mixed_6a.branch3x3dbl_3.bn.bias\n",
            "Mixed_6b.branch1x1.conv.weight\n",
            "Mixed_6b.branch1x1.bn.weight\n",
            "Mixed_6b.branch1x1.bn.bias\n",
            "Mixed_6b.branch7x7_1.conv.weight\n",
            "Mixed_6b.branch7x7_1.bn.weight\n",
            "Mixed_6b.branch7x7_1.bn.bias\n",
            "Mixed_6b.branch7x7_2.conv.weight\n",
            "Mixed_6b.branch7x7_2.bn.weight\n",
            "Mixed_6b.branch7x7_2.bn.bias\n",
            "Mixed_6b.branch7x7_3.conv.weight\n",
            "Mixed_6b.branch7x7_3.bn.weight\n",
            "Mixed_6b.branch7x7_3.bn.bias\n",
            "Mixed_6b.branch7x7dbl_1.conv.weight\n",
            "Mixed_6b.branch7x7dbl_1.bn.weight\n",
            "Mixed_6b.branch7x7dbl_1.bn.bias\n",
            "Mixed_6b.branch7x7dbl_2.conv.weight\n",
            "Mixed_6b.branch7x7dbl_2.bn.weight\n",
            "Mixed_6b.branch7x7dbl_2.bn.bias\n",
            "Mixed_6b.branch7x7dbl_3.conv.weight\n",
            "Mixed_6b.branch7x7dbl_3.bn.weight\n",
            "Mixed_6b.branch7x7dbl_3.bn.bias\n",
            "Mixed_6b.branch7x7dbl_4.conv.weight\n",
            "Mixed_6b.branch7x7dbl_4.bn.weight\n",
            "Mixed_6b.branch7x7dbl_4.bn.bias\n",
            "Mixed_6b.branch7x7dbl_5.conv.weight\n",
            "Mixed_6b.branch7x7dbl_5.bn.weight\n",
            "Mixed_6b.branch7x7dbl_5.bn.bias\n",
            "Mixed_6b.branch_pool.conv.weight\n",
            "Mixed_6b.branch_pool.bn.weight\n",
            "Mixed_6b.branch_pool.bn.bias\n",
            "Mixed_6c.branch1x1.conv.weight\n",
            "Mixed_6c.branch1x1.bn.weight\n",
            "Mixed_6c.branch1x1.bn.bias\n",
            "Mixed_6c.branch7x7_1.conv.weight\n",
            "Mixed_6c.branch7x7_1.bn.weight\n",
            "Mixed_6c.branch7x7_1.bn.bias\n",
            "Mixed_6c.branch7x7_2.conv.weight\n",
            "Mixed_6c.branch7x7_2.bn.weight\n",
            "Mixed_6c.branch7x7_2.bn.bias\n",
            "Mixed_6c.branch7x7_3.conv.weight\n",
            "Mixed_6c.branch7x7_3.bn.weight\n",
            "Mixed_6c.branch7x7_3.bn.bias\n",
            "Mixed_6c.branch7x7dbl_1.conv.weight\n",
            "Mixed_6c.branch7x7dbl_1.bn.weight\n",
            "Mixed_6c.branch7x7dbl_1.bn.bias\n",
            "Mixed_6c.branch7x7dbl_2.conv.weight\n",
            "Mixed_6c.branch7x7dbl_2.bn.weight\n",
            "Mixed_6c.branch7x7dbl_2.bn.bias\n",
            "Mixed_6c.branch7x7dbl_3.conv.weight\n",
            "Mixed_6c.branch7x7dbl_3.bn.weight\n",
            "Mixed_6c.branch7x7dbl_3.bn.bias\n",
            "Mixed_6c.branch7x7dbl_4.conv.weight\n",
            "Mixed_6c.branch7x7dbl_4.bn.weight\n",
            "Mixed_6c.branch7x7dbl_4.bn.bias\n",
            "Mixed_6c.branch7x7dbl_5.conv.weight\n",
            "Mixed_6c.branch7x7dbl_5.bn.weight\n",
            "Mixed_6c.branch7x7dbl_5.bn.bias\n",
            "Mixed_6c.branch_pool.conv.weight\n",
            "Mixed_6c.branch_pool.bn.weight\n",
            "Mixed_6c.branch_pool.bn.bias\n",
            "Mixed_6d.branch1x1.conv.weight\n",
            "Mixed_6d.branch1x1.bn.weight\n",
            "Mixed_6d.branch1x1.bn.bias\n",
            "Mixed_6d.branch7x7_1.conv.weight\n",
            "Mixed_6d.branch7x7_1.bn.weight\n",
            "Mixed_6d.branch7x7_1.bn.bias\n",
            "Mixed_6d.branch7x7_2.conv.weight\n",
            "Mixed_6d.branch7x7_2.bn.weight\n",
            "Mixed_6d.branch7x7_2.bn.bias\n",
            "Mixed_6d.branch7x7_3.conv.weight\n",
            "Mixed_6d.branch7x7_3.bn.weight\n",
            "Mixed_6d.branch7x7_3.bn.bias\n",
            "Mixed_6d.branch7x7dbl_1.conv.weight\n",
            "Mixed_6d.branch7x7dbl_1.bn.weight\n",
            "Mixed_6d.branch7x7dbl_1.bn.bias\n",
            "Mixed_6d.branch7x7dbl_2.conv.weight\n",
            "Mixed_6d.branch7x7dbl_2.bn.weight\n",
            "Mixed_6d.branch7x7dbl_2.bn.bias\n",
            "Mixed_6d.branch7x7dbl_3.conv.weight\n",
            "Mixed_6d.branch7x7dbl_3.bn.weight\n",
            "Mixed_6d.branch7x7dbl_3.bn.bias\n",
            "Mixed_6d.branch7x7dbl_4.conv.weight\n",
            "Mixed_6d.branch7x7dbl_4.bn.weight\n",
            "Mixed_6d.branch7x7dbl_4.bn.bias\n",
            "Mixed_6d.branch7x7dbl_5.conv.weight\n",
            "Mixed_6d.branch7x7dbl_5.bn.weight\n",
            "Mixed_6d.branch7x7dbl_5.bn.bias\n",
            "Mixed_6d.branch_pool.conv.weight\n",
            "Mixed_6d.branch_pool.bn.weight\n",
            "Mixed_6d.branch_pool.bn.bias\n",
            "Mixed_6e.branch1x1.conv.weight\n",
            "Mixed_6e.branch1x1.bn.weight\n",
            "Mixed_6e.branch1x1.bn.bias\n",
            "Mixed_6e.branch7x7_1.conv.weight\n",
            "Mixed_6e.branch7x7_1.bn.weight\n",
            "Mixed_6e.branch7x7_1.bn.bias\n",
            "Mixed_6e.branch7x7_2.conv.weight\n",
            "Mixed_6e.branch7x7_2.bn.weight\n",
            "Mixed_6e.branch7x7_2.bn.bias\n",
            "Mixed_6e.branch7x7_3.conv.weight\n",
            "Mixed_6e.branch7x7_3.bn.weight\n",
            "Mixed_6e.branch7x7_3.bn.bias\n",
            "Mixed_6e.branch7x7dbl_1.conv.weight\n",
            "Mixed_6e.branch7x7dbl_1.bn.weight\n",
            "Mixed_6e.branch7x7dbl_1.bn.bias\n",
            "Mixed_6e.branch7x7dbl_2.conv.weight\n",
            "Mixed_6e.branch7x7dbl_2.bn.weight\n",
            "Mixed_6e.branch7x7dbl_2.bn.bias\n",
            "Mixed_6e.branch7x7dbl_3.conv.weight\n",
            "Mixed_6e.branch7x7dbl_3.bn.weight\n",
            "Mixed_6e.branch7x7dbl_3.bn.bias\n",
            "Mixed_6e.branch7x7dbl_4.conv.weight\n",
            "Mixed_6e.branch7x7dbl_4.bn.weight\n",
            "Mixed_6e.branch7x7dbl_4.bn.bias\n",
            "Mixed_6e.branch7x7dbl_5.conv.weight\n",
            "Mixed_6e.branch7x7dbl_5.bn.weight\n",
            "Mixed_6e.branch7x7dbl_5.bn.bias\n",
            "Mixed_6e.branch_pool.conv.weight\n",
            "Mixed_6e.branch_pool.bn.weight\n",
            "Mixed_6e.branch_pool.bn.bias\n",
            "Mixed_7a.branch3x3_1.conv.weight\n",
            "Mixed_7a.branch3x3_1.bn.weight\n",
            "Mixed_7a.branch3x3_1.bn.bias\n",
            "Mixed_7a.branch3x3_2.conv.weight\n",
            "Mixed_7a.branch3x3_2.bn.weight\n",
            "Mixed_7a.branch3x3_2.bn.bias\n",
            "Mixed_7a.branch7x7x3_1.conv.weight\n",
            "Mixed_7a.branch7x7x3_1.bn.weight\n",
            "Mixed_7a.branch7x7x3_1.bn.bias\n",
            "Mixed_7a.branch7x7x3_2.conv.weight\n",
            "Mixed_7a.branch7x7x3_2.bn.weight\n",
            "Mixed_7a.branch7x7x3_2.bn.bias\n",
            "Mixed_7a.branch7x7x3_3.conv.weight\n",
            "Mixed_7a.branch7x7x3_3.bn.weight\n",
            "Mixed_7a.branch7x7x3_3.bn.bias\n",
            "Mixed_7a.branch7x7x3_4.conv.weight\n",
            "Mixed_7a.branch7x7x3_4.bn.weight\n",
            "Mixed_7a.branch7x7x3_4.bn.bias\n",
            "Mixed_7b.branch1x1.conv.weight\n",
            "Mixed_7b.branch1x1.bn.weight\n",
            "Mixed_7b.branch1x1.bn.bias\n",
            "Mixed_7b.branch3x3_1.conv.weight\n",
            "Mixed_7b.branch3x3_1.bn.weight\n",
            "Mixed_7b.branch3x3_1.bn.bias\n",
            "Mixed_7b.branch3x3_2a.conv.weight\n",
            "Mixed_7b.branch3x3_2a.bn.weight\n",
            "Mixed_7b.branch3x3_2a.bn.bias\n",
            "Mixed_7b.branch3x3_2b.conv.weight\n",
            "Mixed_7b.branch3x3_2b.bn.weight\n",
            "Mixed_7b.branch3x3_2b.bn.bias\n",
            "Mixed_7b.branch3x3dbl_1.conv.weight\n",
            "Mixed_7b.branch3x3dbl_1.bn.weight\n",
            "Mixed_7b.branch3x3dbl_1.bn.bias\n",
            "Mixed_7b.branch3x3dbl_2.conv.weight\n",
            "Mixed_7b.branch3x3dbl_2.bn.weight\n",
            "Mixed_7b.branch3x3dbl_2.bn.bias\n",
            "Mixed_7b.branch3x3dbl_3a.conv.weight\n",
            "Mixed_7b.branch3x3dbl_3a.bn.weight\n",
            "Mixed_7b.branch3x3dbl_3a.bn.bias\n",
            "Mixed_7b.branch3x3dbl_3b.conv.weight\n",
            "Mixed_7b.branch3x3dbl_3b.bn.weight\n",
            "Mixed_7b.branch3x3dbl_3b.bn.bias\n",
            "Mixed_7b.branch_pool.conv.weight\n",
            "Mixed_7b.branch_pool.bn.weight\n",
            "Mixed_7b.branch_pool.bn.bias\n",
            "Mixed_7c.branch1x1.conv.weight\n",
            "Mixed_7c.branch1x1.bn.weight\n",
            "Mixed_7c.branch1x1.bn.bias\n",
            "Mixed_7c.branch3x3_1.conv.weight\n",
            "Mixed_7c.branch3x3_1.bn.weight\n",
            "Mixed_7c.branch3x3_1.bn.bias\n",
            "Mixed_7c.branch3x3_2a.conv.weight\n",
            "Mixed_7c.branch3x3_2a.bn.weight\n",
            "Mixed_7c.branch3x3_2a.bn.bias\n",
            "Mixed_7c.branch3x3_2b.conv.weight\n",
            "Mixed_7c.branch3x3_2b.bn.weight\n",
            "Mixed_7c.branch3x3_2b.bn.bias\n",
            "Mixed_7c.branch3x3dbl_1.conv.weight\n",
            "Mixed_7c.branch3x3dbl_1.bn.weight\n",
            "Mixed_7c.branch3x3dbl_1.bn.bias\n",
            "Mixed_7c.branch3x3dbl_2.conv.weight\n",
            "Mixed_7c.branch3x3dbl_2.bn.weight\n",
            "Mixed_7c.branch3x3dbl_2.bn.bias\n",
            "Mixed_7c.branch3x3dbl_3a.conv.weight\n",
            "Mixed_7c.branch3x3dbl_3a.bn.weight\n",
            "Mixed_7c.branch3x3dbl_3a.bn.bias\n",
            "Mixed_7c.branch3x3dbl_3b.conv.weight\n",
            "Mixed_7c.branch3x3dbl_3b.bn.weight\n",
            "Mixed_7c.branch3x3dbl_3b.bn.bias\n",
            "Mixed_7c.branch_pool.conv.weight\n",
            "Mixed_7c.branch_pool.bn.weight\n",
            "Mixed_7c.branch_pool.bn.bias\n",
            "fc.weight\n",
            "fc.bias\n"
          ],
          "name": "stdout"
        }
      ]
    },
    {
      "cell_type": "code",
      "metadata": {
        "id": "7mYQ0TXVnmV8",
        "colab_type": "code",
        "colab": {}
      },
      "source": [
        "class CharacterClassifier(nn.Module):\n",
        "    def __init__(self, num_vowels, num_consonants):\n",
        "        super().__init__()\n",
        "        self.vowel_output = nn.Linear(in_features=2048, out_features=num_vowels)\n",
        "        self.consonants_output = nn.Linear(in_features=2048, out_features=num_consonants)\n",
        "        self.output = nn.LogSoftmax(dim=1)\n",
        "\n",
        "        self.inception_net = inception_v3(pretrained=True, aux_logits=False)\n",
        "        del self.inception_net.fc\n",
        "\n",
        "        for name, param in self.inception_net.named_parameters():\n",
        "            if name == 'Mixed_5b.branch3x3dbl_1.conv.weight':\n",
        "                break\n",
        "            param.requires_grad = False\n",
        "\n",
        "    def forward(self, input):\n",
        "        x = input\n",
        "        for name, module in self.inception_net.named_children():\n",
        "            if name == 'Conv2d_2b_3x3':\n",
        "                x = self.inception_net.Conv2d_2b_3x3(x)\n",
        "                x = F.max_pool2d(x, kernel_size=3, stride=2)\n",
        "                continue\n",
        "\n",
        "            if name == 'Conv2d_4a_3x3':\n",
        "                x = self.inception_net.Conv2d_4a_3x3(x)\n",
        "                x = F.max_pool2d(x, kernel_size=3, stride=2)\n",
        "                continue\n",
        "            x = module(x)\n",
        "        # Adaptive average pooling for inceptionV3\n",
        "        x = F.adaptive_avg_pool2d(x, (1, 1))\n",
        "        # N x 2048 x 1 x 1\n",
        "        x = F.dropout(x, training=self.training)\n",
        "        # N x 2048 x 1 x 1\n",
        "        x = torch.flatten(x, 1)\n",
        "        # N x 2048\n",
        "        v_out = self.output(self.vowel_output(x))\n",
        "        c_out = self.output(self.consonants_output(x))\n",
        "\n",
        "        return v_out, c_out"
      ],
      "execution_count": 0,
      "outputs": []
    },
    {
      "cell_type": "code",
      "metadata": {
        "id": "z7g9D_5xieQp",
        "colab_type": "code",
        "colab": {}
      },
      "source": [
        "num_vowels = 13\n",
        "num_consonants = 19\n",
        "lr = 0.001\n",
        "batch_size = 64\n",
        "log_step = 50\n",
        "device = 'cuda' if torch.cuda.is_available() else 'cpu'"
      ],
      "execution_count": 0,
      "outputs": []
    },
    {
      "cell_type": "code",
      "metadata": {
        "id": "n0PV4x7Skzny",
        "colab_type": "code",
        "colab": {}
      },
      "source": [
        "# Create the train and the validation set\n",
        "num_items = len(dataset)\n",
        "test_split = 0.05\n",
        "val_split = 0.05\n",
        "num_train_samples = int((1 - (test_split + val_split)) * num_items)\n",
        "num_test_samples = int(test_split * num_items)\n",
        "num_val_samples = int(val_split * num_items)\n",
        "train_dataset, val_dataset, test_dataset = random_split(dataset, [num_train_samples, num_val_samples, num_test_samples])\n",
        "\n",
        "train_loader = DataLoader(train_dataset, num_workers=4, shuffle=True, batch_size=batch_size)\n",
        "val_loader = DataLoader(val_dataset, num_workers=4, shuffle=True, batch_size=batch_size)\n",
        "test_loader = DataLoader(test_dataset, num_workers=4, shuffle=True, batch_size=num_test_samples)"
      ],
      "execution_count": 0,
      "outputs": []
    },
    {
      "cell_type": "code",
      "metadata": {
        "id": "Fi4RJZrIuX7Z",
        "colab_type": "code",
        "colab": {}
      },
      "source": [
        "criterion = nn.NLLLoss()\n",
        "classifier = CharacterClassifier(num_vowels, num_consonants).to(device)\n",
        "optimizer = torch.optim.Adam(classifier.parameters(), lr=lr)\n",
        "lr_scheduler = torch.optim.lr_scheduler.StepLR(optimizer, step_size=10, gamma=0.1)"
      ],
      "execution_count": 0,
      "outputs": []
    },
    {
      "cell_type": "code",
      "metadata": {
        "id": "tJ24jN-yvTSy",
        "colab_type": "code",
        "colab": {}
      },
      "source": [
        "# Sanity check the classifier\n",
        "sample_batch, targets_batch = next(iter(train_loader))\n",
        "sample_batch = sample_batch.cuda()\n",
        "targets_batch = targets_batch.cuda()\n",
        "v_out, c_out = classifier(sample_batch)"
      ],
      "execution_count": 0,
      "outputs": []
    },
    {
      "cell_type": "code",
      "metadata": {
        "id": "gmB5K_Sl-abr",
        "colab_type": "code",
        "colab": {}
      },
      "source": [
        "def train_one_epoch(model, criterion, optimizer, val_batch, val_targets, log_step=50):\n",
        "    loss_profile = []\n",
        "    for idx, (input_batch, target_batch) in enumerate(train_loader):\n",
        "        model.train()\n",
        "        optimizer.zero_grad()\n",
        "\n",
        "        input_batch = input_batch.cuda()\n",
        "        target_batch = target_batch.cuda()\n",
        "        v_out, c_out = model(input_batch)\n",
        "\n",
        "        # compute the vowel loss\n",
        "        vowel_targets = target_batch[:, 0]\n",
        "        consonant_targets = target_batch[:, 1]\n",
        "        v_loss = criterion(v_out, vowel_targets)\n",
        "        c_loss = criterion(c_out, consonant_targets)\n",
        "\n",
        "        loss = v_loss + c_loss\n",
        "        # compute the gradients\n",
        "        loss.backward()\n",
        "\n",
        "        # optimize the parameters\n",
        "        optimizer.step()\n",
        "\n",
        "        if idx % log_step == 0:\n",
        "            # evaluate the model\n",
        "            model.eval()\n",
        "            v_val_out, c_val_out = model(val_batch)\n",
        "            val_loss = criterion(v_val_out, val_targets[:, 0]) + criterion(c_val_out, val_targets[:, 1])\n",
        "            print(f'StepIdx: {idx} V_loss: {v_loss.item()} C_loss: {c_loss.item()} Loss: {loss.item()} ValLoss: {val_loss}')\n",
        "            torch.save(model.state_dict(), 'classifier.pt')\n",
        "        loss_profile.append(loss.item())\n",
        "    return loss_profile"
      ],
      "execution_count": 0,
      "outputs": []
    },
    {
      "cell_type": "code",
      "metadata": {
        "id": "abCRKn-905fY",
        "colab_type": "code",
        "colab": {}
      },
      "source": [
        "loss_profile = []\n",
        "num_epochs = 5\n",
        "val_batch, val_targets = next(iter(val_loader))\n",
        "val_batch = val_batch.to(device)\n",
        "val_targets = val_targets.to(device)\n",
        "\n",
        "load_pretrained_model = False"
      ],
      "execution_count": 0,
      "outputs": []
    },
    {
      "cell_type": "code",
      "metadata": {
        "id": "exod9Gd2_IHa",
        "colab_type": "code",
        "outputId": "5717583c-0886-432b-b33f-87526e8011c3",
        "colab": {
          "base_uri": "https://localhost:8080/",
          "height": 357
        }
      },
      "source": [
        "if load_pretrained_model:\n",
        "    classifier.load_state_dict(torch.load('classifier.pt'))\n",
        "for epoch_idx in range(num_epochs):\n",
        "    print(f'Epoch Idx: {epoch_idx}')\n",
        "    loss = train_one_epoch(classifier, criterion, optimizer, val_batch, val_targets, log_step=log_step)\n",
        "    loss_profile.extend(loss)"
      ],
      "execution_count": 0,
      "outputs": [
        {
          "output_type": "stream",
          "text": [
            "Epoch Idx: 0\n",
            "StepIdx: 0 V_loss: 0.045982446521520615 C_loss: 0.05173477530479431 Loss: 0.09771722555160522 ValLoss: 0.36778390407562256\n",
            "StepIdx: 50 V_loss: 0.014129236340522766 C_loss: 0.050920143723487854 Loss: 0.06504938006401062 ValLoss: 0.4195408821105957\n",
            "StepIdx: 100 V_loss: 0.018285810947418213 C_loss: 0.048821017146110535 Loss: 0.06710682809352875 ValLoss: 0.25683483481407166\n",
            "Epoch Idx: 1\n",
            "StepIdx: 0 V_loss: 0.0012197718024253845 C_loss: 0.033687204122543335 Loss: 0.03490697592496872 ValLoss: 0.2739950120449066\n",
            "StepIdx: 50 V_loss: 0.0651804581284523 C_loss: 0.055630169808864594 Loss: 0.1208106279373169 ValLoss: 0.2672387361526489\n",
            "StepIdx: 100 V_loss: 0.0796121209859848 C_loss: 0.011637747287750244 Loss: 0.09124986827373505 ValLoss: 0.18115946650505066\n",
            "Epoch Idx: 2\n",
            "StepIdx: 0 V_loss: 0.010843463242053986 C_loss: 0.0020058229565620422 Loss: 0.012849286198616028 ValLoss: 0.31026071310043335\n",
            "StepIdx: 50 V_loss: 0.00621892511844635 C_loss: 0.009755127131938934 Loss: 0.015974052250385284 ValLoss: 0.5346944332122803\n",
            "StepIdx: 100 V_loss: 0.06934194266796112 C_loss: 0.019565433263778687 Loss: 0.08890737593173981 ValLoss: 0.2139561027288437\n",
            "Epoch Idx: 3\n",
            "StepIdx: 0 V_loss: 0.09481615573167801 C_loss: 0.008348524570465088 Loss: 0.1031646803021431 ValLoss: 0.409321129322052\n",
            "StepIdx: 50 V_loss: 0.07928451150655746 C_loss: 0.013475220650434494 Loss: 0.09275972843170166 ValLoss: 0.16850173473358154\n",
            "StepIdx: 100 V_loss: 0.023941311985254288 C_loss: 0.008433803915977478 Loss: 0.032375115901231766 ValLoss: 0.6111102104187012\n",
            "Epoch Idx: 4\n",
            "StepIdx: 0 V_loss: 0.021573267877101898 C_loss: 0.013950970023870468 Loss: 0.035524237900972366 ValLoss: 0.6490134000778198\n",
            "StepIdx: 50 V_loss: 0.0448695532977581 C_loss: 0.02431444451212883 Loss: 0.06918399780988693 ValLoss: 0.19984057545661926\n",
            "StepIdx: 100 V_loss: 0.008242644369602203 C_loss: 0.0022384226322174072 Loss: 0.01048106700181961 ValLoss: 0.6301003098487854\n"
          ],
          "name": "stdout"
        }
      ]
    },
    {
      "cell_type": "code",
      "metadata": {
        "id": "ZUB-BgBcKsin",
        "colab_type": "code",
        "outputId": "f7b12286-0b18-4baf-e318-3e9b4692923d",
        "colab": {
          "base_uri": "https://localhost:8080/",
          "height": 286
        }
      },
      "source": [
        "plt.plot(loss_profile)"
      ],
      "execution_count": 0,
      "outputs": [
        {
          "output_type": "execute_result",
          "data": {
            "text/plain": [
              "[<matplotlib.lines.Line2D at 0x7fb465c28ac8>]"
            ]
          },
          "metadata": {
            "tags": []
          },
          "execution_count": 24
        },
        {
          "output_type": "display_data",
          "data": {
            "image/png": "[encoded data removed]",
            "text/plain": [
              "<Figure size 432x288 with 1 Axes>"
            ]
          },
          "metadata": {
            "tags": []
          }
        }
      ]
    },
    {
      "cell_type": "markdown",
      "metadata": {
        "id": "LrAhF-iZdy6y",
        "colab_type": "text"
      },
      "source": [
        "## Evaluation"
      ]
    },
    {
      "cell_type": "code",
      "metadata": {
        "id": "bx3MfwqPas21",
        "colab_type": "code",
        "colab": {}
      },
      "source": [
        "def get_predictions(model, test_samples):\n",
        "    model.eval()\n",
        "    v_out, c_out = model(test_samples)\n",
        "    vowel_pred = torch.topk(v_out, 1, dim=1)\n",
        "    consonant_pred = torch.topk(c_out, 1, dim=1)\n",
        "    return vowel_pred.indices, consonant_pred.indices"
      ],
      "execution_count": 0,
      "outputs": []
    },
    {
      "cell_type": "code",
      "metadata": {
        "id": "IYqXyhDQjaGP",
        "colab_type": "code",
        "colab": {}
      },
      "source": [
        "# test_samples, test_targets = next(iter(test_loader))\n",
        "# test_samples = test_samples.cuda()\n",
        "# test_targets = test_targets.cuda()\n",
        "def compute_accuracy(dataset, model):\n",
        "    num_correct = 0\n",
        "    total_samples = len(dataset)\n",
        "    for sample, target in tqdm(dataset):\n",
        "        sample = torch.unsqueeze(sample, 0).cuda()\n",
        "        v_pred, c_pred = get_predictions(model, sample)\n",
        "        if v_pred.item() == target[0].item() and c_pred.item() == target[1].item():\n",
        "            num_correct += 1\n",
        "    accuracy = num_correct / total_samples\n",
        "    return accuracy"
      ],
      "execution_count": 0,
      "outputs": []
    },
    {
      "cell_type": "code",
      "metadata": {
        "id": "ujtqjkGTm3U-",
        "colab_type": "code",
        "outputId": "f089a261-3bbd-45df-99ab-d2173857dc9c",
        "colab": {
          "base_uri": "https://localhost:8080/",
          "height": 51
        }
      },
      "source": [
        "accuracy = compute_accuracy(test_dataset, classifier)\n",
        "print(accuracy)"
      ],
      "execution_count": 0,
      "outputs": [
        {
          "output_type": "stream",
          "text": [
            "100%|██████████| 500/500 [00:17<00:00, 27.86it/s]"
          ],
          "name": "stderr"
        },
        {
          "output_type": "stream",
          "text": [
            "0.946\n"
          ],
          "name": "stdout"
        },
        {
          "output_type": "stream",
          "text": [
            "\n"
          ],
          "name": "stderr"
        }
      ]
    },
    {
      "cell_type": "code",
      "metadata": {
        "id": "0lOkUCj50fW-",
        "colab_type": "code",
        "outputId": "609b2a8d-0f7c-44bd-83d5-ed765cfd6b2a",
        "colab": {
          "base_uri": "https://localhost:8080/",
          "height": 34
        }
      },
      "source": [
        "import pandas as pd\n",
        "\n",
        "test_image = os.listdir('/content/test/')\n",
        "transform = get_transforms(train=False)\n",
        "cols = ['ImageId', 'Class']\n",
        "test_df = pd.DataFrame(columns=cols)\n",
        "for image in tqdm(test_image):\n",
        "    image_path = os.path.join('/content/test', image)\n",
        "    img = transform(Image.open(image_path).convert('RGB'))\n",
        "    img = torch.unsqueeze(img, 0).cuda()\n",
        "    data = {}\n",
        "    data['ImageId'] = image\n",
        "    v_pred, c_pred = get_predictions(classifier, img)\n",
        "    data['Class'] = f'V{v_pred.item()}_C{c_pred.item()}'\n",
        "    test_df = test_df.append(data, ignore_index=True)"
      ],
      "execution_count": 0,
      "outputs": [
        {
          "output_type": "stream",
          "text": [
            "100%|██████████| 10000/10000 [06:19<00:00, 26.38it/s]\n"
          ],
          "name": "stderr"
        }
      ]
    },
    {
      "cell_type": "code",
      "metadata": {
        "id": "dxocfi6oIR56",
        "colab_type": "code",
        "colab": {}
      },
      "source": [
        "test_df.to_csv('pred_results.csv', index=False)"
      ],
      "execution_count": 0,
      "outputs": []
    },
    {
      "cell_type": "code",
      "metadata": {
        "id": "yGj9X8_gfWA0",
        "colab_type": "code",
        "outputId": "eb87fbd2-8fa0-495f-cdc0-f4c8005d0619",
        "colab": {
          "base_uri": "https://localhost:8080/",
          "height": 204
        }
      },
      "source": [
        "test_df.head()"
      ],
      "execution_count": 0,
      "outputs": [
        {
          "output_type": "execute_result",
          "data": {
            "text/html": [
              "<div>\n",
              "<style scoped>\n",
              "    .dataframe tbody tr th:only-of-type {\n",
              "        vertical-align: middle;\n",
              "    }\n",
              "\n",
              "    .dataframe tbody tr th {\n",
              "        vertical-align: top;\n",
              "    }\n",
              "\n",
              "    .dataframe thead th {\n",
              "        text-align: right;\n",
              "    }\n",
              "</style>\n",
              "<table border=\"1\" class=\"dataframe\">\n",
              "  <thead>\n",
              "    <tr style=\"text-align: right;\">\n",
              "      <th></th>\n",
              "      <th>ImageId</th>\n",
              "      <th>Class</th>\n",
              "    </tr>\n",
              "  </thead>\n",
              "  <tbody>\n",
              "    <tr>\n",
              "      <th>0</th>\n",
              "      <td>2018.png</td>\n",
              "      <td>V2_C0</td>\n",
              "    </tr>\n",
              "    <tr>\n",
              "      <th>1</th>\n",
              "      <td>9845.png</td>\n",
              "      <td>V9_C8</td>\n",
              "    </tr>\n",
              "    <tr>\n",
              "      <th>2</th>\n",
              "      <td>2820.png</td>\n",
              "      <td>V2_C8</td>\n",
              "    </tr>\n",
              "    <tr>\n",
              "      <th>3</th>\n",
              "      <td>4533.png</td>\n",
              "      <td>V4_C5</td>\n",
              "    </tr>\n",
              "    <tr>\n",
              "      <th>4</th>\n",
              "      <td>9638.png</td>\n",
              "      <td>V9_C6</td>\n",
              "    </tr>\n",
              "  </tbody>\n",
              "</table>\n",
              "</div>"
            ],
            "text/plain": [
              "    ImageId  Class\n",
              "0  2018.png  V2_C0\n",
              "1  9845.png  V9_C8\n",
              "2  2820.png  V2_C8\n",
              "3  4533.png  V4_C5\n",
              "4  9638.png  V9_C6"
            ]
          },
          "metadata": {
            "tags": []
          },
          "execution_count": 28
        }
      ]
    },
    {
      "cell_type": "code",
      "metadata": {
        "id": "rA1n69JOo2bO",
        "colab_type": "code",
        "colab": {}
      },
      "source": [
        ""
      ],
      "execution_count": 0,
      "outputs": []
    }
  ]
}